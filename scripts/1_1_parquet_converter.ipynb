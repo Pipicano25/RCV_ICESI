{
 "cells": [
  {
   "cell_type": "markdown",
   "id": "9a992f0c",
   "metadata": {},
   "source": [
    "# Converitdor de archivos excel a parquet (Formato binario)"
   ]
  },
  {
   "cell_type": "code",
   "execution_count": 14,
   "id": "e0e34061",
   "metadata": {},
   "outputs": [],
   "source": [
    "# Importar las librerias\n",
    "import polars as pl\n",
    "import pandas as pd\n",
    "import os\n",
    "import gc"
   ]
  },
  {
   "cell_type": "markdown",
   "id": "308ae599",
   "metadata": {},
   "source": [
    "Como primera instacia, declaramos variable global donde se encuentra nuesta informacion para asi recorerrla en los diferentes archivos"
   ]
  },
  {
   "cell_type": "code",
   "execution_count": 15,
   "id": "307c1b1c",
   "metadata": {},
   "outputs": [
    {
     "name": "stdout",
     "output_type": "stream",
     "text": [
      "c:\\Users\\Pipicano\\Music\\Semester I\\Proyecto RCV\\RCV\\scripts\n"
     ]
    }
   ],
   "source": [
    "# Comando para poder ubicar nuestra ruta actual del proyecto, util en grandes proyecto para poder manejar rutas relativas \n",
    "path_project = os.getcwd()\n",
    "print(path_project)"
   ]
  },
  {
   "cell_type": "markdown",
   "id": "86e2567c",
   "metadata": {},
   "source": [
    "Como primer paso, ubicaremos la carpata \"Archivo\""
   ]
  },
  {
   "cell_type": "code",
   "execution_count": 16,
   "id": "e325cf4a",
   "metadata": {},
   "outputs": [
    {
     "name": "stdout",
     "output_type": "stream",
     "text": [
      "c:\\Users\\Pipicano\\Music\\Semester I\\Proyecto RCV\\RCV\\scripts\\..\\data\\raw\\Archivo 3\n"
     ]
    }
   ],
   "source": [
    "path_archivo = os.path.join(path_project, '..', 'data', 'raw', 'Archivo 3')\n",
    "print(path_archivo)"
   ]
  },
  {
   "cell_type": "markdown",
   "id": "3d985282",
   "metadata": {},
   "source": [
    "Para confirmar que ya podemos acceder a nuestros archivos, ahora se listaran"
   ]
  },
  {
   "cell_type": "code",
   "execution_count": 17,
   "id": "5bd597c0",
   "metadata": {},
   "outputs": [
    {
     "name": "stdout",
     "output_type": "stream",
     "text": [
      "['Prueba Cronicos ESE Oriente MARZO 2023.xlsx', 'Reporte Cronicos ESE Oriente ABRIL 2017.xlsx', 'Reporte Cronicos ESE Oriente ABRIL 2022.xlsx', 'Reporte Cronicos ESE Oriente ABRIL 2023.xlsx', 'Reporte Cronicos ESE Oriente AGOSTO 2016.xlsx', 'Reporte Cronicos ESE Oriente AGOSTO 2017.xlsx', 'Reporte Cronicos ESE Oriente AGOSTO 2022.xlsx', 'Reporte Cronicos ESE Oriente DICIEMBRE 2021.xlsx', 'Reporte Cronicos ESE Oriente DICIEMBRE 2022.xlsx', 'Reporte Cronicos ESE Oriente ENERO 2022.xlsx', 'Reporte Cronicos ESE Oriente ENERO 2023.xlsx', 'Reporte Cronicos ESE Oriente FEBRERO 2017.xlsx', 'Reporte Cronicos ESE Oriente FEBRERO 2019.xlsx', 'Reporte Cronicos ESE Oriente FEBRERO 2022.xlsx', 'Reporte Cronicos ESE Oriente FEBRERO 2023.xlsx', 'Reporte Cronicos ESE Oriente JULIO 2017.xlsx', 'Reporte Cronicos ESE Oriente JULIO 2022.xlsx', 'Reporte Cronicos ESE Oriente JUNIO 2017.xlsx', 'Reporte Cronicos ESE Oriente JUNIO 2020.xlsx', 'Reporte Cronicos ESE Oriente JUNIO 2021.xlsx', 'Reporte Cronicos ESE Oriente JUNIO 2022.xlsx', 'Reporte Cronicos ESE Oriente MARZO 2017.xlsx', 'Reporte Cronicos ESE Oriente MARZO 2022.xlsx', 'Reporte Cronicos ESE Oriente MARZO 2023.xlsx', 'Reporte Cronicos ESE Oriente MAYO 2017.xlsx', 'Reporte Cronicos ESE Oriente MAYO 2022.xlsx', 'Reporte Cronicos ESE Oriente NOVIEMBRE 2021.xlsx', 'Reporte Cronicos ESE Oriente NOVIEMBRE 2022.xlsx', 'Reporte Cronicos ESE Oriente OCTUBRE 2021.xlsx', 'Reporte Cronicos ESE Oriente OCTUBRE 2022.xlsx', 'Reporte Cronicos ESE Oriente SEPTIEMBRE 2021.xlsx', 'Reporte Cronicos ESE Oriente SEPTIEMBRE 2022.xlsx']\n"
     ]
    }
   ],
   "source": [
    "print(os.listdir(path_archivo))"
   ]
  },
  {
   "cell_type": "markdown",
   "id": "7c2cd976",
   "metadata": {},
   "source": [
    "Ahora pasamos a procesar los archivos a parquet, pero para ellos primero debemos de entender primero.\n",
    "\n",
    "Un archivo Parquet es un formato de almacenamiento de datos columnares desarrollado por Apache. Está diseñado para manejar grandes volúmenes de información de manera eficiente, permitiendo compresión, lectura selectiva de columnas y compatibilidad con múltiples lenguajes y frameworks (Python, Spark, Hadoop, etc.). A diferencia de formatos como CSV o Excel, que almacenan datos fila por fila, Parquet organiza los datos por columnas, lo que lo hace ideal para procesamiento analítico y Big Data.\n",
    "\n",
    "| Característica           | CSV                         | Excel (XLSX)              | Parquet                                           |\n",
    "| ------------------------ | --------------------------- | ------------------------- | ------------------------------------------------- |\n",
    "| **Estructura**           | Fila por fila (row-based)   | Fila por fila (row-based) | Columna por columna (column-based)                |\n",
    "| **Compresión**           | Poca / manual               | Moderada                  | Alta (automática y optimizada)                    |\n",
    "| **Velocidad de lectura** | Lenta con grandes datos     | Lenta                     | Muy rápida (lectura selectiva)                    |\n",
    "| **Soporte de tipos**     | Texto y números básicos     | Texto, números, fechas    | Tipos complejos (listas, fechas, decimales, etc.) |\n",
    "| **Tamaño de archivo**    | Grande                      | Grande                    | Reducido (por compresión)                         |\n",
    "| **Uso típico**           | Intercambio simple de datos | Reportes y ofimática      | Big Data, análisis, machine learning              |\n",
    "\n"
   ]
  },
  {
   "cell_type": "code",
   "execution_count": 18,
   "id": "7744dcab",
   "metadata": {},
   "outputs": [],
   "source": [
    "def es_numero(valor: str) -> bool:\n",
    "    try:\n",
    "        float(valor)\n",
    "        return True\n",
    "    except ValueError:\n",
    "        return False"
   ]
  },
  {
   "cell_type": "code",
   "execution_count": 19,
   "id": "7cdaecd8",
   "metadata": {},
   "outputs": [
    {
     "name": "stdout",
     "output_type": "stream",
     "text": [
      "['Prueba Cronicos ESE Oriente MARZO 2023.xlsx', 'Reporte Cronicos ESE Oriente ABRIL 2017.xlsx', 'Reporte Cronicos ESE Oriente ABRIL 2022.xlsx', 'Reporte Cronicos ESE Oriente ABRIL 2023.xlsx', 'Reporte Cronicos ESE Oriente AGOSTO 2016.xlsx', 'Reporte Cronicos ESE Oriente AGOSTO 2017.xlsx', 'Reporte Cronicos ESE Oriente AGOSTO 2022.xlsx', 'Reporte Cronicos ESE Oriente DICIEMBRE 2021.xlsx', 'Reporte Cronicos ESE Oriente DICIEMBRE 2022.xlsx', 'Reporte Cronicos ESE Oriente ENERO 2022.xlsx', 'Reporte Cronicos ESE Oriente ENERO 2023.xlsx', 'Reporte Cronicos ESE Oriente FEBRERO 2017.xlsx', 'Reporte Cronicos ESE Oriente FEBRERO 2019.xlsx', 'Reporte Cronicos ESE Oriente FEBRERO 2022.xlsx', 'Reporte Cronicos ESE Oriente FEBRERO 2023.xlsx', 'Reporte Cronicos ESE Oriente JULIO 2017.xlsx', 'Reporte Cronicos ESE Oriente JULIO 2022.xlsx', 'Reporte Cronicos ESE Oriente JUNIO 2017.xlsx', 'Reporte Cronicos ESE Oriente JUNIO 2020.xlsx', 'Reporte Cronicos ESE Oriente JUNIO 2021.xlsx', 'Reporte Cronicos ESE Oriente JUNIO 2022.xlsx', 'Reporte Cronicos ESE Oriente MARZO 2017.xlsx', 'Reporte Cronicos ESE Oriente MARZO 2022.xlsx', 'Reporte Cronicos ESE Oriente MARZO 2023.xlsx', 'Reporte Cronicos ESE Oriente MAYO 2017.xlsx', 'Reporte Cronicos ESE Oriente MAYO 2022.xlsx', 'Reporte Cronicos ESE Oriente NOVIEMBRE 2021.xlsx', 'Reporte Cronicos ESE Oriente NOVIEMBRE 2022.xlsx', 'Reporte Cronicos ESE Oriente OCTUBRE 2021.xlsx', 'Reporte Cronicos ESE Oriente OCTUBRE 2022.xlsx', 'Reporte Cronicos ESE Oriente SEPTIEMBRE 2021.xlsx', 'Reporte Cronicos ESE Oriente SEPTIEMBRE 2022.xlsx']\n"
     ]
    }
   ],
   "source": [
    "resultado = []\n",
    "\n",
    "for file in os.listdir(path_archivo):\n",
    "    if not file.endswith('.parquet'):\n",
    "        resultado.append(file)\n",
    "\n",
    "print(resultado)"
   ]
  },
  {
   "cell_type": "code",
   "execution_count": null,
   "id": "937aac7b",
   "metadata": {},
   "outputs": [],
   "source": [
    "print([file for file in os.listdir(path_archivo) if not file.endswith('.parquet')])"
   ]
  },
  {
   "cell_type": "code",
   "execution_count": null,
   "id": "e6c737e6",
   "metadata": {},
   "outputs": [],
   "source": [
    "for file in [file for file in os.listdir(path_archivo) if not file.endswith('.parquet')]: \n",
    "    print(file)"
   ]
  },
  {
   "cell_type": "code",
   "execution_count": 21,
   "id": "a0639f0f",
   "metadata": {},
   "outputs": [
    {
     "name": "stdout",
     "output_type": "stream",
     "text": [
      "Reporte Cronicos ESE Oriente ABRIL 2017.xlsx\n",
      "Reporte Cronicos ESE Oriente ABRIL 2022.xlsx\n"
     ]
    },
    {
     "name": "stderr",
     "output_type": "stream",
     "text": [
      "c:\\Users\\Pipicano\\Music\\Semester I\\Proyecto RCV\\RCV\\.venv\\Lib\\site-packages\\openpyxl\\worksheet\\_reader.py:329: UserWarning: Data Validation extension is not supported and will be removed\n",
      "  warn(msg)\n"
     ]
    },
    {
     "name": "stdout",
     "output_type": "stream",
     "text": [
      "Reporte Cronicos ESE Oriente ABRIL 2023.xlsx\n"
     ]
    },
    {
     "name": "stderr",
     "output_type": "stream",
     "text": [
      "c:\\Users\\Pipicano\\Music\\Semester I\\Proyecto RCV\\RCV\\.venv\\Lib\\site-packages\\openpyxl\\worksheet\\_reader.py:329: UserWarning: Data Validation extension is not supported and will be removed\n",
      "  warn(msg)\n"
     ]
    },
    {
     "name": "stdout",
     "output_type": "stream",
     "text": [
      "Reporte Cronicos ESE Oriente AGOSTO 2016.xlsx\n"
     ]
    },
    {
     "name": "stderr",
     "output_type": "stream",
     "text": [
      "c:\\Users\\Pipicano\\Music\\Semester I\\Proyecto RCV\\RCV\\.venv\\Lib\\site-packages\\openpyxl\\worksheet\\_reader.py:329: UserWarning: Unknown extension is not supported and will be removed\n",
      "  warn(msg)\n"
     ]
    },
    {
     "name": "stdout",
     "output_type": "stream",
     "text": [
      "Reporte Cronicos ESE Oriente AGOSTO 2017.xlsx\n",
      "Reporte Cronicos ESE Oriente AGOSTO 2022.xlsx\n"
     ]
    },
    {
     "name": "stderr",
     "output_type": "stream",
     "text": [
      "c:\\Users\\Pipicano\\Music\\Semester I\\Proyecto RCV\\RCV\\.venv\\Lib\\site-packages\\openpyxl\\worksheet\\_reader.py:329: UserWarning: Data Validation extension is not supported and will be removed\n",
      "  warn(msg)\n"
     ]
    },
    {
     "name": "stdout",
     "output_type": "stream",
     "text": [
      "Reporte Cronicos ESE Oriente DICIEMBRE 2021.xlsx\n"
     ]
    },
    {
     "name": "stderr",
     "output_type": "stream",
     "text": [
      "c:\\Users\\Pipicano\\Music\\Semester I\\Proyecto RCV\\RCV\\.venv\\Lib\\site-packages\\openpyxl\\worksheet\\_reader.py:329: UserWarning: Data Validation extension is not supported and will be removed\n",
      "  warn(msg)\n"
     ]
    },
    {
     "name": "stdout",
     "output_type": "stream",
     "text": [
      "Reporte Cronicos ESE Oriente DICIEMBRE 2022.xlsx\n"
     ]
    },
    {
     "name": "stderr",
     "output_type": "stream",
     "text": [
      "c:\\Users\\Pipicano\\Music\\Semester I\\Proyecto RCV\\RCV\\.venv\\Lib\\site-packages\\openpyxl\\worksheet\\_reader.py:329: UserWarning: Data Validation extension is not supported and will be removed\n",
      "  warn(msg)\n"
     ]
    },
    {
     "name": "stdout",
     "output_type": "stream",
     "text": [
      "Reporte Cronicos ESE Oriente ENERO 2022.xlsx\n",
      "Reporte Cronicos ESE Oriente ENERO 2023.xlsx\n"
     ]
    },
    {
     "name": "stderr",
     "output_type": "stream",
     "text": [
      "c:\\Users\\Pipicano\\Music\\Semester I\\Proyecto RCV\\RCV\\.venv\\Lib\\site-packages\\openpyxl\\worksheet\\_reader.py:329: UserWarning: Data Validation extension is not supported and will be removed\n",
      "  warn(msg)\n"
     ]
    },
    {
     "name": "stdout",
     "output_type": "stream",
     "text": [
      "Reporte Cronicos ESE Oriente FEBRERO 2017.xlsx\n",
      "Reporte Cronicos ESE Oriente FEBRERO 2019.xlsx\n",
      "Reporte Cronicos ESE Oriente FEBRERO 2022.xlsx\n",
      "Reporte Cronicos ESE Oriente FEBRERO 2023.xlsx\n"
     ]
    },
    {
     "name": "stderr",
     "output_type": "stream",
     "text": [
      "c:\\Users\\Pipicano\\Music\\Semester I\\Proyecto RCV\\RCV\\.venv\\Lib\\site-packages\\openpyxl\\worksheet\\_reader.py:329: UserWarning: Data Validation extension is not supported and will be removed\n",
      "  warn(msg)\n"
     ]
    },
    {
     "ename": "AttributeError",
     "evalue": "'DataFrame' object has no attribute 'dtype'",
     "output_type": "error",
     "traceback": [
      "\u001b[31m---------------------------------------------------------------------------\u001b[39m",
      "\u001b[31mAttributeError\u001b[39m                            Traceback (most recent call last)",
      "\u001b[32m~\\AppData\\Local\\Temp\\ipykernel_20944\\3802018204.py\u001b[39m in \u001b[36m?\u001b[39m\u001b[34m()\u001b[39m\n\u001b[32m      6\u001b[39m     df = df.rename(columns={\n\u001b[32m      7\u001b[39m         col: str(col).strip().lower().replace(\u001b[33m' '\u001b[39m, \u001b[33m'_'\u001b[39m).replace(\u001b[33m'-'\u001b[39m, \u001b[33m'_'\u001b[39m) \u001b[38;5;28;01mif\u001b[39;00m \u001b[38;5;28;01mnot\u001b[39;00m es_numero(str(col)) \u001b[38;5;28;01melse\u001b[39;00m f'col_{col}' \u001b[38;5;28;01mfor\u001b[39;00m col \u001b[38;5;28;01min\u001b[39;00m df.columns\n\u001b[32m      8\u001b[39m     })\n\u001b[32m      9\u001b[39m \n\u001b[32m---> \u001b[39m\u001b[32m10\u001b[39m     \u001b[38;5;28;01mfor\u001b[39;00m key, value \u001b[38;5;28;01min\u001b[39;00m {col: df[col].dtype \u001b[38;5;28;01mfor\u001b[39;00m col \u001b[38;5;28;01min\u001b[39;00m df.columns}.items():\n\u001b[32m     11\u001b[39m         \u001b[38;5;28;01mtry\u001b[39;00m:\n\u001b[32m     12\u001b[39m             \u001b[38;5;28;01mif\u001b[39;00m \u001b[33m\"date\"\u001b[39m \u001b[38;5;28;01min\u001b[39;00m value: df[key] = pd.to_datetime(df[key], errors=\u001b[33m\"coerce\"\u001b[39m)\n\u001b[32m     13\u001b[39m             \u001b[38;5;28;01melif\u001b[39;00m \u001b[33m\"int\"\u001b[39m \u001b[38;5;28;01min\u001b[39;00m value \u001b[38;5;28;01mor\u001b[39;00m \u001b[33m\"float\"\u001b[39m \u001b[38;5;28;01min\u001b[39;00m value: df[key] = pd.to_numeric(df[key], errors=\u001b[33m\"coerce\"\u001b[39m)\n",
      "\u001b[32mc:\\Users\\Pipicano\\Music\\Semester I\\Proyecto RCV\\RCV\\.venv\\Lib\\site-packages\\pandas\\core\\generic.py\u001b[39m in \u001b[36m?\u001b[39m\u001b[34m(self, name)\u001b[39m\n\u001b[32m   6314\u001b[39m             \u001b[38;5;28;01mand\u001b[39;00m name \u001b[38;5;28;01mnot\u001b[39;00m \u001b[38;5;28;01min\u001b[39;00m self._accessors\n\u001b[32m   6315\u001b[39m             \u001b[38;5;28;01mand\u001b[39;00m self._info_axis._can_hold_identifiers_and_holds_name(name)\n\u001b[32m   6316\u001b[39m         ):\n\u001b[32m   6317\u001b[39m             \u001b[38;5;28;01mreturn\u001b[39;00m self[name]\n\u001b[32m-> \u001b[39m\u001b[32m6318\u001b[39m         \u001b[38;5;28;01mreturn\u001b[39;00m object.__getattribute__(self, name)\n",
      "\u001b[31mAttributeError\u001b[39m: 'DataFrame' object has no attribute 'dtype'"
     ]
    }
   ],
   "source": [
    "# Converit a parquet los archivos de excel que no son parquet\n",
    "for file in [file for file in os.listdir(path_archivo) if not file.endswith('.parquet') and not file.startswith('ClasificacionRiesgoCard')]: \n",
    "    print(file)\n",
    "    df = pd.read_excel(os.path.join(path_archivo, file), sheet_name='BASE', header=4, dtype=object)\n",
    "    df = df.convert_dtypes()\n",
    "    df = df.rename(columns={\n",
    "        col: str(col).strip().lower().replace(' ', '_').replace('-', '_') if not es_numero(str(col)) else f'col_{col}' for col in df.columns\n",
    "    })\n",
    "\n",
    "    for key, value in {col: df[col].dtype for col in df.columns}.items():\n",
    "        try:\n",
    "            if \"date\" in value: df[key] = pd.to_datetime(df[key], errors=\"coerce\")\n",
    "            elif \"int\" in value or \"float\" in value: df[key] = pd.to_numeric(df[key], errors=\"coerce\")\n",
    "            else: df[key] = df[key].astype(\"string\").str.strip()\n",
    "        except Exception as e: df[key] = df[key].astype(\"string\").str.strip()\n",
    "\n",
    "    df.to_parquet(os.path.join(path_archivo, f'{file.replace('.xlsx', '')}.parquet'), engine=\"pyarrow\")\n",
    "    \n",
    "    del df\n",
    "    gc.collect()"
   ]
  },
  {
   "cell_type": "markdown",
   "id": "c22d8db2",
   "metadata": {},
   "source": [
    "En Python, gc es el módulo que controla el Garbage Collector (recolector de basura).\n",
    "El Garbage Collector es el mecanismo que administra la memoria automáticamente, detectando objetos que ya no se usan y liberando el espacio que ocupaban en RAM."
   ]
  },
  {
   "cell_type": "markdown",
   "id": "0f2fc126",
   "metadata": {},
   "source": [
    "Muy bien, una vez generado los archivos podemos validar si quedaron de forma correcta"
   ]
  },
  {
   "cell_type": "code",
   "execution_count": null,
   "id": "8f7830fe",
   "metadata": {},
   "outputs": [],
   "source": [
    "df = pd.read_parquet(os.path.join(path_archivo, 'Reporte Cronicos ESE Oriente JUNIO 2018.parquet'))\n",
    "print(df)"
   ]
  }
 ],
 "metadata": {
  "kernelspec": {
   "display_name": ".venv",
   "language": "python",
   "name": "python3"
  },
  "language_info": {
   "codemirror_mode": {
    "name": "ipython",
    "version": 3
   },
   "file_extension": ".py",
   "mimetype": "text/x-python",
   "name": "python",
   "nbconvert_exporter": "python",
   "pygments_lexer": "ipython3",
   "version": "3.13.2"
  }
 },
 "nbformat": 4,
 "nbformat_minor": 5
}
