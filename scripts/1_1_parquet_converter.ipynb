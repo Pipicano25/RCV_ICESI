{
 "cells": [
  {
   "cell_type": "markdown",
   "id": "9a992f0c",
   "metadata": {},
   "source": [
    "# Converitdor de archivos excel a parquet (Formato binario)"
   ]
  },
  {
   "cell_type": "code",
   "execution_count": null,
   "id": "e0e34061",
   "metadata": {},
   "outputs": [],
   "source": [
    "# Importar las librerias\n",
    "import polars as pl\n",
    "import pandas as pd\n",
    "import os\n",
    "import gc"
   ]
  },
  {
   "cell_type": "markdown",
   "id": "308ae599",
   "metadata": {},
   "source": [
    "Como primera instacia, declaramos variable global donde se encuentra nuesta informacion para asi recorerrla en los diferentes archivos"
   ]
  },
  {
   "cell_type": "code",
   "execution_count": null,
   "id": "307c1b1c",
   "metadata": {},
   "outputs": [],
   "source": [
    "# Comando para poder ubicar nuestra ruta actual del proyecto, util en grandes proyecto para poder manejar rutas relativas \n",
    "path_project = os.getcwd()\n",
    "print(path_project)"
   ]
  },
  {
   "cell_type": "markdown",
   "id": "86e2567c",
   "metadata": {},
   "source": [
    "Como primer paso, ubicaremos la carpata \"Archivo\""
   ]
  },
  {
   "cell_type": "code",
   "execution_count": null,
   "id": "e325cf4a",
   "metadata": {},
   "outputs": [],
   "source": [
    "path_archivo = os.path.join(path_project, '..', 'data', 'raw', 'Archivo 3')\n",
    "print(path_archivo)"
   ]
  },
  {
   "cell_type": "markdown",
   "id": "3d985282",
   "metadata": {},
   "source": [
    "Para confirmar que ya podemos acceder a nuestros archivos, ahora se listaran"
   ]
  },
  {
   "cell_type": "code",
   "execution_count": null,
   "id": "5bd597c0",
   "metadata": {},
   "outputs": [],
   "source": [
    "print(os.listdir(path_archivo))"
   ]
  },
  {
   "cell_type": "markdown",
   "id": "7c2cd976",
   "metadata": {},
   "source": [
    "Ahora pasamos a procesar los archivos a parquet, pero para ellos primero debemos de entender primero.\n",
    "\n",
    "Un archivo Parquet es un formato de almacenamiento de datos columnares desarrollado por Apache. Está diseñado para manejar grandes volúmenes de información de manera eficiente, permitiendo compresión, lectura selectiva de columnas y compatibilidad con múltiples lenguajes y frameworks (Python, Spark, Hadoop, etc.). A diferencia de formatos como CSV o Excel, que almacenan datos fila por fila, Parquet organiza los datos por columnas, lo que lo hace ideal para procesamiento analítico y Big Data.\n",
    "\n",
    "| Característica           | CSV                         | Excel (XLSX)              | Parquet                                           |\n",
    "| ------------------------ | --------------------------- | ------------------------- | ------------------------------------------------- |\n",
    "| **Estructura**           | Fila por fila (row-based)   | Fila por fila (row-based) | Columna por columna (column-based)                |\n",
    "| **Compresión**           | Poca / manual               | Moderada                  | Alta (automática y optimizada)                    |\n",
    "| **Velocidad de lectura** | Lenta con grandes datos     | Lenta                     | Muy rápida (lectura selectiva)                    |\n",
    "| **Soporte de tipos**     | Texto y números básicos     | Texto, números, fechas    | Tipos complejos (listas, fechas, decimales, etc.) |\n",
    "| **Tamaño de archivo**    | Grande                      | Grande                    | Reducido (por compresión)                         |\n",
    "| **Uso típico**           | Intercambio simple de datos | Reportes y ofimática      | Big Data, análisis, machine learning              |\n",
    "\n"
   ]
  },
  {
   "cell_type": "code",
   "execution_count": null,
   "id": "7744dcab",
   "metadata": {},
   "outputs": [],
   "source": [
    "def es_numero(valor: str) -> bool:\n",
    "    \"\"\"\n",
    "        Funcion que nos permite identificar si un valor es numerico o no\n",
    "        Args:\n",
    "            valor (str): valor a evaluar.\n",
    "        Returns:\n",
    "            bool: True si el valor es numerico, False en caso contrario.\n",
    "    \"\"\"\n",
    "    try:\n",
    "        float(valor)\n",
    "        return True\n",
    "    except ValueError:\n",
    "        return False"
   ]
  },
  {
   "cell_type": "code",
   "execution_count": null,
   "id": "a0639f0f",
   "metadata": {},
   "outputs": [],
   "source": [
    "# Converit a parquet los archivos de excel que no son parquet\n",
    "for file in [file for file in os.listdir(path_archivo) if not file.endswith('.parquet') and not file.startswith('ClasificacionRiesgoCard')]: \n",
    "    print(file)\n",
    "    df = pd.read_excel(os.path.join(path_archivo, file), sheet_name='BASE', header=4, dtype=object)\n",
    "    df = df.convert_dtypes()\n",
    "    df = df.rename(columns={\n",
    "        col: str(col).strip().lower().replace(' ', '_').replace('-', '_') if not es_numero(str(col)) else f'col_{col}' for col in df.columns\n",
    "    })\n",
    "\n",
    "    for key, value in {col: df[col].dtype for col in df.columns}.items():\n",
    "        try:\n",
    "            if \"date\" in value: df[key] = pd.to_datetime(df[key], errors=\"coerce\")\n",
    "            elif \"int\" in value or \"float\" in value: df[key] = pd.to_numeric(df[key], errors=\"coerce\")\n",
    "            else: df[key] = df[key].astype(\"string\").str.strip()\n",
    "        except Exception as e: df[key] = df[key].astype(\"string\").str.strip()\n",
    "\n",
    "    df.to_parquet(os.path.join(path_archivo, f'{file.replace('.xlsx', '')}.parquet'), engine=\"pyarrow\")\n",
    "    \n",
    "    del df\n",
    "    gc.collect()"
   ]
  },
  {
   "cell_type": "markdown",
   "id": "c22d8db2",
   "metadata": {},
   "source": [
    "En Python, gc es el módulo que controla el Garbage Collector (recolector de basura).\n",
    "El Garbage Collector es el mecanismo que administra la memoria automáticamente, detectando objetos que ya no se usan y liberando el espacio que ocupaban en RAM."
   ]
  },
  {
   "cell_type": "markdown",
   "id": "0f2fc126",
   "metadata": {},
   "source": [
    "Muy bien, una vez generado los archivos podemos validar si quedaron de forma correcta"
   ]
  },
  {
   "cell_type": "code",
   "execution_count": null,
   "id": "8f7830fe",
   "metadata": {},
   "outputs": [],
   "source": [
    "df = pd.read_parquet(os.path.join(path_archivo, 'Reporte Cronicos ESE Oriente JUNIO 2018.parquet'))\n",
    "print(df)"
   ]
  }
 ],
 "metadata": {
  "kernelspec": {
   "display_name": ".venv",
   "language": "python",
   "name": "python3"
  },
  "language_info": {
   "codemirror_mode": {
    "name": "ipython",
    "version": 3
   },
   "file_extension": ".py",
   "mimetype": "text/x-python",
   "name": "python",
   "nbconvert_exporter": "python",
   "pygments_lexer": "ipython3",
   "version": "3.13.2"
  }
 },
 "nbformat": 4,
 "nbformat_minor": 5
}
