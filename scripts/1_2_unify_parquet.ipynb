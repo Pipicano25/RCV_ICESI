{
 "cells": [
  {
   "cell_type": "markdown",
   "id": "3c52f0dd",
   "metadata": {},
   "source": [
    "# Unificar archivos parquet para poder hacer el tratamiento del dataset"
   ]
  },
  {
   "cell_type": "code",
   "execution_count": null,
   "id": "e2a48bc4",
   "metadata": {},
   "outputs": [],
   "source": [
    "import pandas as pd\n",
    "import os\n",
    "import gc"
   ]
  },
  {
   "cell_type": "code",
   "execution_count": null,
   "id": "7157c410",
   "metadata": {},
   "outputs": [],
   "source": [
    "# Comando para poder ubicar nuestra ruta actual del proyecto, util en grandes proyecto para poder manejar rutas relativas \n",
    "path_project = os.getcwd()\n",
    "print(path_project)\n",
    "\n",
    "path_archivo = os.path.join(path_project, '..', 'data', 'raw', 'Archivo')\n",
    "print(path_archivo)"
   ]
  },
  {
   "cell_type": "markdown",
   "id": "3a09b804",
   "metadata": {},
   "source": [
    "Unir los toda la informacion de los parquet en 1 solo para facilitar el tratamiento de su información"
   ]
  },
  {
   "cell_type": "code",
   "execution_count": null,
   "id": "fb9c6aea",
   "metadata": {},
   "outputs": [],
   "source": [
    "df_complete = pd.DataFrame()\n",
    "\n",
    "for file in os.listdir(path_archivo):\n",
    "    if file.endswith('.parquet'):\n",
    "        print(file) \n",
    "        df = pd.read_parquet(os.path.join(path_archivo, file))\n",
    "        df_complete = pd.concat([df_complete, df], ignore_index=True)\n",
    " "
   ]
  },
  {
   "cell_type": "markdown",
   "id": "792cfa29",
   "metadata": {},
   "source": [
    "Una vez unidos los parquets, se procede a guardar la informacion en un unico para facilitar su posterior tratamiento"
   ]
  },
  {
   "cell_type": "code",
   "execution_count": null,
   "id": "e8e04224",
   "metadata": {},
   "outputs": [],
   "source": [
    "df_complete.shape\n",
    "\n",
    "df_complete.to_parquet(os.path.join(path_project, '..', 'data', 'processed', 'df_complete_archivo.parquet'), index=False)\n",
    "del df_complete\n",
    "gc.collect()"
   ]
  },
  {
   "cell_type": "code",
   "execution_count": null,
   "id": "e17a3f3c",
   "metadata": {},
   "outputs": [],
   "source": [
    "df = pd.read_parquet(os.path.join(path_project, '..', 'data', 'processed', 'df_complete_archivo.parquet'))"
   ]
  },
  {
   "cell_type": "code",
   "execution_count": null,
   "id": "0eb7053c",
   "metadata": {},
   "outputs": [],
   "source": [
    "df.info()"
   ]
  }
 ],
 "metadata": {
  "kernelspec": {
   "display_name": ".venv",
   "language": "python",
   "name": "python3"
  },
  "language_info": {
   "codemirror_mode": {
    "name": "ipython",
    "version": 3
   },
   "file_extension": ".py",
   "mimetype": "text/x-python",
   "name": "python",
   "nbconvert_exporter": "python",
   "pygments_lexer": "ipython3",
   "version": "3.13.2"
  }
 },
 "nbformat": 4,
 "nbformat_minor": 5
}
