{
 "cells": [
  {
   "cell_type": "markdown",
   "id": "3c52f0dd",
   "metadata": {},
   "source": [
    "# Unificar archivos parquet para poder hacer el tratamiento del dataset"
   ]
  },
  {
   "cell_type": "code",
   "execution_count": 9,
   "id": "e2a48bc4",
   "metadata": {},
   "outputs": [],
   "source": [
    "import pandas as pd\n",
    "import os\n",
    "import gc"
   ]
  },
  {
   "cell_type": "code",
   "execution_count": 3,
   "id": "7157c410",
   "metadata": {},
   "outputs": [
    {
     "name": "stdout",
     "output_type": "stream",
     "text": [
      "c:\\Users\\Pipicano\\Music\\Semester I\\Proyecto RCV\\RCV\\scripts\n",
      "c:\\Users\\Pipicano\\Music\\Semester I\\Proyecto RCV\\RCV\\scripts\\..\\data\\raw\\Archivo\n"
     ]
    }
   ],
   "source": [
    "# Comando para poder ubicar nuestra ruta actual del proyecto, util en grandes proyecto para poder manejar rutas relativas \n",
    "path_project = os.getcwd()\n",
    "print(path_project)\n",
    "\n",
    "path_archivo = os.path.join(path_project, '..', 'data', 'raw', 'Archivo')\n",
    "print(path_archivo)"
   ]
  },
  {
   "cell_type": "markdown",
   "id": "3a09b804",
   "metadata": {},
   "source": [
    "Unir los toda la informacion de los parquet en 1 solo para facilitar el tratamiento de su información"
   ]
  },
  {
   "cell_type": "code",
   "execution_count": 7,
   "id": "fb9c6aea",
   "metadata": {},
   "outputs": [
    {
     "name": "stdout",
     "output_type": "stream",
     "text": [
      "Reporte Cronicos ESE Oriente ABRIL 2018.parquet\n",
      "Reporte Cronicos ESE Oriente AGOSTO 2018.parquet\n",
      "Reporte Cronicos ESE Oriente DICIEMBRE 2016.parquet\n",
      "Reporte Cronicos ESE Oriente DICIEMBRE 2017.parquet\n",
      "Reporte Cronicos ESE Oriente DICIEMBRE 2018.parquet\n",
      "Reporte Cronicos ESE Oriente ENERO 2017.parquet\n",
      "Reporte Cronicos ESE Oriente ENERO 2018.parquet\n",
      "Reporte Cronicos ESE Oriente FEBRERO 2018.parquet\n",
      "Reporte Cronicos ESE Oriente JULIO 2018.parquet\n",
      "Reporte Cronicos ESE Oriente JUNIO 2018.parquet\n",
      "Reporte Cronicos ESE Oriente MARZO 2018.parquet\n",
      "Reporte Cronicos ESE Oriente MARZO 2019.parquet\n",
      "Reporte Cronicos ESE Oriente MAYO 2018.parquet\n",
      "Reporte Cronicos ESE Oriente NOVIEMBRE 2016.parquet\n",
      "Reporte Cronicos ESE Oriente NOVIEMBRE 2018.parquet\n",
      "Reporte Cronicos ESE Oriente NOVIEMBRE2017.parquet\n",
      "Reporte Cronicos ESE Oriente OCTUBRE 2016.parquet\n",
      "Reporte Cronicos ESE Oriente OCTUBRE 2017.parquet\n",
      "Reporte Cronicos ESE Oriente OCTUBRE 2018.parquet\n",
      "Reporte Cronicos ESE Oriente SEPTIEMBRE 2016.parquet\n",
      "Reporte Cronicos ESE Oriente SEPTIEMBRE 2017.parquet\n",
      "Reporte Cronicos ESE Oriente SEPTIEMBRE 2018.parquet\n"
     ]
    }
   ],
   "source": [
    "df_complete = pd.DataFrame()\n",
    "\n",
    "for file in os.listdir(path_archivo):\n",
    "    if file.endswith('.parquet'):\n",
    "        print(file) \n",
    "        df = pd.read_parquet(os.path.join(path_archivo, file))\n",
    "        df_complete = pd.concat([df_complete, df], ignore_index=True)\n",
    " "
   ]
  },
  {
   "cell_type": "markdown",
   "id": "792cfa29",
   "metadata": {},
   "source": [
    "Una vez unidos los parquets, se procede a guardar la informacion en un unico para facilitar su posterior tratamiento"
   ]
  },
  {
   "cell_type": "code",
   "execution_count": 10,
   "id": "e8e04224",
   "metadata": {},
   "outputs": [
    {
     "data": {
      "text/plain": [
       "0"
      ]
     },
     "execution_count": 10,
     "metadata": {},
     "output_type": "execute_result"
    }
   ],
   "source": [
    "df_complete.shape\n",
    "\n",
    "df_complete.to_parquet(os.path.join(path_project, '..', 'data', 'processed', 'df_complete_archivo.parquet'), index=False)\n",
    "del df_complete\n",
    "gc.collect()"
   ]
  },
  {
   "cell_type": "code",
   "execution_count": 11,
   "id": "e17a3f3c",
   "metadata": {},
   "outputs": [],
   "source": [
    "df = pd.read_parquet(os.path.join(path_project, '..', 'data', 'processed', 'df_complete_archivo.parquet'))"
   ]
  },
  {
   "cell_type": "code",
   "execution_count": 13,
   "id": "0eb7053c",
   "metadata": {},
   "outputs": [
    {
     "name": "stdout",
     "output_type": "stream",
     "text": [
      "<class 'pandas.core.frame.DataFrame'>\n",
      "RangeIndex: 656575 entries, 0 to 656574\n",
      "Data columns (total 76 columns):\n",
      " #   Column                                             Non-Null Count   Dtype \n",
      "---  ------                                             --------------   ----- \n",
      " 0   col_760010395712                                   397686 non-null  string\n",
      " 1   consecutivo                                        656575 non-null  string\n",
      " 2   col_1                                              538278 non-null  string\n",
      " 3   col_2                                              418338 non-null  string\n",
      " 4   fehca_de_inscripcion                               277587 non-null  string\n",
      " 5   año                                                651576 non-null  string\n",
      " 6   fecha_ultima_atención                              651576 non-null  string\n",
      " 7   ips                                                651576 non-null  string\n",
      " 8   1_primernombre                                     651576 non-null  string\n",
      " 9   2_segundonombre                                    651108 non-null  string\n",
      " 10  3_primerapellido                                   651576 non-null  string\n",
      " 11  4_segundoapellido                                  651378 non-null  string\n",
      " 12  5_tipoidentificacion                               651576 non-null  string\n",
      " 13  6_identificacion                                   651576 non-null  string\n",
      " 14  7_fechanac                                         651576 non-null  string\n",
      " 15  edad_(años_cumplidos)                              651576 non-null  string\n",
      " 16  grupo_edad                                         656575 non-null  string\n",
      " 17  8_sexo                                             651576 non-null  string\n",
      " 18  9_regimen                                          651576 non-null  string\n",
      " 19  10_eps                                             651576 non-null  string\n",
      " 20  11_codetnia                                        618847 non-null  string\n",
      " 21  12_grupopob                                        648471 non-null  string\n",
      " 22  metodo_de_planificacion                            659 non-null     string\n",
      " 23  13_codmun                                          651576 non-null  string\n",
      " 24  14_telefono                                        461284 non-null  string\n",
      " 25  direccion                                          341081 non-null  string\n",
      " 26  15_fechaafileps                                    0 non-null       string\n",
      " 27  16_codipssegto                                     651576 non-null  string\n",
      " 28  17_fechainnefro                                    0 non-null       string\n",
      " 29  18_dxhta                                           651576 non-null  string\n",
      " 30  clasificación_hta                                  87 non-null      string\n",
      " 31  20_dxdm                                            651576 non-null  string\n",
      " 32  clasificación_dm                                   0 non-null       string\n",
      " 33  22_etiologiaerc                                    651576 non-null  string\n",
      " 34  23_peso                                            644563 non-null  string\n",
      " 35  24_talla                                           644426 non-null  string\n",
      " 36  indice_masa_corporal_=_peso/talla_al_cuadrado      643947 non-null  string\n",
      " 37  clasificación_imc                                  643947 non-null  string\n",
      " 38  sedentario                                         682 non-null     string\n",
      " 39  cigarrillo                                         682 non-null     string\n",
      " 40  sobrepeso                                          1298 non-null    string\n",
      " 41  obesidad                                           1232 non-null    string\n",
      " 42  alcohol                                            682 non-null     string\n",
      " 43  aliment_inadecuada_(sal,_pocas_frutas_y_verduras)  638 non-null     string\n",
      " 44  25_tenartsis                                       646789 non-null  string\n",
      " 45  26_tenartditlica                                   646771 non-null  string\n",
      " 46  clasificacion_final_del_riesgo                     651576 non-null  string\n",
      " 47  27_creatinina                                      530941 non-null  string\n",
      " 48  27_1_fechacrea                                     530940 non-null  string\n",
      " 49  28_hemoglicosilada                                 161073 non-null  string\n",
      " 50  28_1_fechahemoglico                                161073 non-null  string\n",
      " 51  29_albuminuria                                     431093 non-null  string\n",
      " 52  29_1_fechaalbnuria                                 431093 non-null  string\n",
      " 53  30_creatinuria                                     68560 non-null   string\n",
      " 54  30_fechacreatinuria                                68560 non-null   string\n",
      " 55  31_colesteroltotal                                 528109 non-null  string\n",
      " 56  31_1_fechact                                       528109 non-null  string\n",
      " 57  32_hdl                                             521872 non-null  string\n",
      " 58  32_1_fechahdl                                      521872 non-null  string\n",
      " 59  33_ldl                                             520656 non-null  string\n",
      " 60  33_1_fechaldl                                      520655 non-null  string\n",
      " 61  35_tfg                                             530434 non-null  string\n",
      " 62  36_rcbeieca                                        651444 non-null  string\n",
      " 63  37_rcbeara2                                        651444 non-null  string\n",
      " 64  38_dxerc                                           22 non-null      string\n",
      " 65  40_fechadxerc                                      0 non-null       string\n",
      " 66  41_programateerc_(nefroproteccion)                 0 non-null       string\n",
      " 67  endosalud                                          649449 non-null  string\n",
      " 68  79_novedad                                         34 non-null      string\n",
      " 69  80_causamuerte                                     39 non-null      string\n",
      " 70  81_fechamuerte                                     17 non-null      string\n",
      " 71  82_glicemia                                        414239 non-null  string\n",
      " 72  82_1_fecha_glicemia                                414239 non-null  string\n",
      " 73  83_trigliceridos                                   411935 non-null  string\n",
      " 74  83_1_fecha_trigliceridos                           411935 non-null  string\n",
      " 75  unnamed:_0                                         0 non-null       string\n",
      "dtypes: string(76)\n",
      "memory usage: 380.7 MB\n"
     ]
    }
   ],
   "source": [
    "df.info()"
   ]
  }
 ],
 "metadata": {
  "kernelspec": {
   "display_name": ".venv",
   "language": "python",
   "name": "python3"
  },
  "language_info": {
   "codemirror_mode": {
    "name": "ipython",
    "version": 3
   },
   "file_extension": ".py",
   "mimetype": "text/x-python",
   "name": "python",
   "nbconvert_exporter": "python",
   "pygments_lexer": "ipython3",
   "version": "3.13.2"
  }
 },
 "nbformat": 4,
 "nbformat_minor": 5
}
