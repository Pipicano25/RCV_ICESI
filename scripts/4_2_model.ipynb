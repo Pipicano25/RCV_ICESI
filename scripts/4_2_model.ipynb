{
 "cells": [
  {
   "cell_type": "code",
   "execution_count": null,
   "id": "a7a1ccc1",
   "metadata": {},
   "outputs": [],
   "source": [
    "from sklearn.model_selection import train_test_split\n",
    "from sklearn.linear_model import LinearRegression\n",
    "from sklearn.metrics import mean_squared_error, r2_score\n",
    "import numpy as np"
   ]
  },
  {
   "cell_type": "code",
   "execution_count": null,
   "id": "f91edad6",
   "metadata": {},
   "outputs": [],
   "source": [
    "# Define las variables X (independiente) y Y (dependiente).\n",
    "X = df_select[['tension_sistolica']]  # Usamos doble corchete para que sea un DataFrame\n",
    "y = df_select['tension_diastolica']\n",
    "\n",
    "# Divide los datos en conjuntos de entrenamiento (80%) y prueba (20%).\n",
    "# Esto es para que el modelo aprenda de una parte de los datos y sea evaluado\n",
    "# con datos que no ha visto.\n",
    "X_train, X_test, y_train, y_test = train_test_split(X, y, test_size=0.2, random_state=42)\n",
    "\n",
    "# Crea y entrena el modelo de regresión lineal.\n",
    "model = LinearRegression()\n",
    "model.fit(X_train, y_train)"
   ]
  },
  {
   "cell_type": "code",
   "execution_count": null,
   "id": "7e3846e5",
   "metadata": {},
   "outputs": [],
   "source": [
    "# Realiza predicciones en el conjunto de datos de prueba.\n",
    "y_pred = model.predict(X_test)\n",
    "\n",
    "# Calcula las métricas de evaluación del modelo.\n",
    "# El Error Cuadrático Medio (MSE) mide el error promedio de las predicciones.\n",
    "mse = mean_squared_error(y_test, y_pred)\n",
    "# El Coeficiente de Determinación (R^2) mide qué tan bien se ajusta el modelo.\n",
    "r2 = r2_score(y_test, y_pred)\n",
    "\n",
    "print(\"--- Evaluación del Modelo de Regresión Lineal ---\")\n",
    "print(f\"Error Cuadrático Medio (MSE): {mse:.2f}\")\n",
    "print(f\"Coeficiente de Determinación (R^2): {r2:.2f}\")\n",
    "\n",
    "# Un valor de R^2 de 0.42 indica que el 42% de la variabilidad en la\n",
    "# presión diastólica puede ser explicada por la presión sistólica."
   ]
  },
  {
   "cell_type": "markdown",
   "id": "8b6e73c3",
   "metadata": {},
   "source": [
    "Coeficiente de Determinación (R \n",
    "2\n",
    " )\n",
    "Valor: 0.41\n",
    "\n",
    "Concepto Médico:\n",
    "El coeficiente R \n",
    "2\n",
    "  te indica qué tan bien tu variable independiente (tensión sistólica) explica la variabilidad de la variable dependiente (tensión diastólica).\n",
    "\n",
    "Un R \n",
    "2\n",
    "  de 0.41 significa que el 41% de la variabilidad en la tensión arterial diastólica de los pacientes puede ser explicada por los cambios en su tensión arterial sistólica. En otras palabras, la presión sistólica es un predictor moderadamente bueno de la diastólica, pero no es el único factor determinante. El 59% restante de la variación se debe a otras variables que no están en el modelo, como la edad del paciente, su peso, nivel de estrés, historial genético o la presencia de otras comorbilidades.\n",
    "\n",
    "Este resultado confirma la fuerte relación que ya habías encontrado en tu análisis bivariado, pero también te enseña que, para un diagnóstico completo, un médico no puede basarse únicamente en la tensión sistólica.\n",
    "\n",
    "Error Cuadrático Medio (MSE)\n",
    "Valor: 48.12\n",
    "\n",
    "Concepto Médico:\n",
    "El MSE es una medida del error promedio de las predicciones de tu modelo. Para entenderlo en términos médicos, es útil calcular la raíz cuadrada del MSE, lo que nos da la raíz del error cuadrático medio (RMSE), que está en las mismas unidades que la variable que estamos prediciendo (mmHg).\n",
    "\n",
    "RMSE =  \n",
    "48.12\n",
    "\n",
    "​\n",
    " ≈6.94 mmHg\n",
    "\n",
    "El RMSE de 6.94 mmHg significa que, en promedio, las predicciones que tu modelo hace para la presión arterial diastólica de un paciente se desvían de los valores reales en casi 7 mmHg.\n",
    "\n",
    "Interpretación en la Práctica Clínica:\n",
    "Un error de ±7 mmHg puede ser clínicamente significativo, ya que un valor de 80 mmHg se considera normal, mientras que 89 mmHg puede indicar prehipertensión. Por lo tanto, aunque el modelo captura la tendencia general, no es lo suficientemente preciso como para ser utilizado para tomar decisiones críticas sobre el tratamiento de un paciente. Te sirve como una herramienta para entender la relación, pero no reemplaza una medición precisa ni la valoración médica completa.\n",
    "\n",
    "En resumen, el modelo es útil para fines de análisis y estudio, ya que muestra una relación real y significativa entre las dos variables, pero en la práctica médica real, se requeriría un modelo mucho más preciso que incorpore otros factores relevantes del paciente para reducir ese margen de error."
   ]
  },
  {
   "cell_type": "code",
   "execution_count": null,
   "id": "98182a7c",
   "metadata": {},
   "outputs": [],
   "source": [
    "plt.figure(figsize=(10, 6))\n",
    "sns.scatterplot(x=X_test['tension_sistolica'], y=y_test, alpha=0.6, label='Datos Reales de Prueba')\n",
    "plt.plot(X_test, y_pred, color='red', linewidth=2, label='Línea de Regresión')\n",
    "plt.title('Modelo de Regresión Lineal: Predicción de Tensión Diastólica')\n",
    "plt.xlabel('Tensión Arterial Sistólica (mmHg)')\n",
    "plt.ylabel('Tensión Arterial Diastólica (mmHg)')\n",
    "plt.legend()\n",
    "plt.show()\n"
   ]
  }
 ],
 "metadata": {
  "language_info": {
   "name": "python"
  }
 },
 "nbformat": 4,
 "nbformat_minor": 5
}
